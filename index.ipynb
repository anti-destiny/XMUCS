{
 "cells": [
  {
   "cell_type": "markdown",
   "metadata": {},
   "source": [
    "- 計算理論基礎\n",
    "  - 教材\n",
    "  - [期末資料](http://localhost:8888/notebooks/Documents/notebook/%E5%AD%B8%E7%BF%92%E8%B3%87%E6%96%99%E5%8C%AF%E7%B8%BD/%E8%A8%88%E7%AE%97%E7%90%86%E8%AB%96%E5%9F%BA%E7%A4%8E/%E6%9C%9F%E6%9C%AB%E8%80%83%E8%A9%A6%EF%BC%88%E9%9B%B7%E8%98%8A%E5%A5%87%EF%BC%89/index.ipynb)\n",
    "  - 其它\n",
    "- 計算智能\n",
    "  - 教材\n",
    "  - [期末資料](計算智能/期末考試（李翠華、曲延雲）/index.ipynb)\n",
    "  - 其它"
   ]
  },
  {
   "cell_type": "code",
   "execution_count": null,
   "metadata": {},
   "outputs": [],
   "source": []
  }
 ],
 "metadata": {
  "kernelspec": {
   "display_name": "Python 3",
   "language": "python",
   "name": "python3"
  },
  "language_info": {
   "codemirror_mode": {
    "name": "ipython",
    "version": 3
   },
   "file_extension": ".py",
   "mimetype": "text/x-python",
   "name": "python",
   "nbconvert_exporter": "python",
   "pygments_lexer": "ipython3",
   "version": "3.6.5"
  }
 },
 "nbformat": 4,
 "nbformat_minor": 2
}
