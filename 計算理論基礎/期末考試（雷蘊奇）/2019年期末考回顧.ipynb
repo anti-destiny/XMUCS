{
 "cells": [
  {
   "cell_type": "markdown",
   "metadata": {},
   "source": [
    "\n",
    "```\n",
    "类似课程的视频：https://www.bilibili.com/video/av17253679/?p=1\n",
    "A部分\n",
    "1.14级第一题，5类语言\n",
    "2.14级第二题，第一小问改为如果一个算法最大空间复杂度是O(n^5)，那么其最大时间复杂度是多少\n",
    "3.14级第三题，限制改为e(0<e<1/3).如果e=1/3时，。。。\n",
    "4.泵引领证明{a^nb^nc^n|n大于等于0}不是正则语言\n",
    "5.14级第五题，证明图灵可识别语言在并和连接运算下封闭\n",
    "B部分\n",
    "1.没看\n",
    "2.证明EQTM既不是图灵可识别也不是补图灵可识别\n",
    "3.证明CLIQUE是NP完全的\n",
    "4.没看\n",
    "\n",
    "```"
   ]
  }
 ],
 "metadata": {
  "kernelspec": {
   "display_name": "Python 3",
   "language": "python",
   "name": "python3"
  },
  "language_info": {
   "codemirror_mode": {
    "name": "ipython",
    "version": 3
   },
   "file_extension": ".py",
   "mimetype": "text/x-python",
   "name": "python",
   "nbconvert_exporter": "python",
   "pygments_lexer": "ipython3",
   "version": "3.6.5"
  }
 },
 "nbformat": 4,
 "nbformat_minor": 2
}
